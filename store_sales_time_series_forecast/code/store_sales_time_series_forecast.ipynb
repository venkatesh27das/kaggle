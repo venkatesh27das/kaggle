{
 "cells": [
  {
   "cell_type": "code",
   "execution_count": 1,
   "metadata": {},
   "outputs": [],
   "source": [
    "import pandas as pd\n",
    "import numpy as np\n",
    "import matplotlib.pyplot as plt\n",
    "import keras\n",
    "import glob\n",
    "import os\n",
    "\n",
    "import warnings\n",
    "warnings.filterwarnings(\"ignore\")"
   ]
  },
  {
   "cell_type": "code",
   "execution_count": 34,
   "metadata": {},
   "outputs": [],
   "source": [
    "def read_inputs():\n",
    "    holidays = pd.read_csv(\"../data/holidays_events.csv\")\n",
    "    holidays = holidays[holidays[\"transferred\"]==False]\n",
    "    holidays = holidays[holidays[\"type\"].isin(['Holiday','Additional','Bridge','Event','Transfer'])]\n",
    "    \n",
    "    oil = pd.read_csv(\"../data/oil.csv\")\n",
    "    oil[\"date\"] = pd.to_datetime(oil['date'])\n",
    "    oil_new = pd.DataFrame({\"date\":list(pd.date_range(start=oil.date.min(),end=oil.date.max()))})\n",
    "    oil_new = pd.merge(oil_new,oil,how=\"left\",on=[\"date\"])\n",
    "    oil_new['dcoilwtico'] = oil_new['dcoilwtico'].ffill()\n",
    "    oil_new['dcoilwtico'] = oil_new['dcoilwtico'].bfill()\n",
    "\n",
    "    stores = pd.read_csv(\"../data/stores.csv\")\n",
    "    transaction = pd.read_csv(\"../data/transactions.csv\")\n",
    "\n",
    "    return holidays, oil_new, stores, transaction\n",
    "\n",
    "sample = pd.read_csv(\"../data/sample_submission.csv\")\n",
    "train = pd.read_csv(\"../data/train.csv\")\n",
    "test = pd.read_csv(\"../data/test.csv\")\n",
    "\n",
    "holidays, oil, stores, transaction = read_inputs()"
   ]
  },
  {
   "cell_type": "code",
   "execution_count": 42,
   "metadata": {},
   "outputs": [],
   "source": [
    "df_train = pd.merge(train,stores[[\"store_nbr\",\"cluster\"]],how=\"left\",on=[\"store_nbr\"])"
   ]
  },
  {
   "cell_type": "code",
   "execution_count": 60,
   "metadata": {},
   "outputs": [],
   "source": [
    "df_train_gpy = df_train.groupby([\"date\",\"cluster\"]).agg({\"sales\":['sum','mean',\"count\"]}).reset_index()\n",
    "df_train_gpy.columns = [' '.join(col).strip() for col in df_train_gpy.columns.values]\n",
    "df_train_gpy = df_train_gpy[df_train_gpy['sales sum']>0]\n",
    "df_train_gpy.head(2)\n",
    "df_train_gpy.to_excel(\"../output/sales_plot.xlsx\",index=False)"
   ]
  },
  {
   "cell_type": "code",
   "execution_count": 52,
   "metadata": {},
   "outputs": [],
   "source": []
  },
  {
   "cell_type": "code",
   "execution_count": 53,
   "metadata": {},
   "outputs": [
    {
     "data": {
      "text/plain": [
       "Index(['sales sum', 'sales mean', 'sales count'], dtype='object')"
      ]
     },
     "execution_count": 53,
     "metadata": {},
     "output_type": "execute_result"
    }
   ],
   "source": []
  },
  {
   "cell_type": "code",
   "execution_count": null,
   "metadata": {},
   "outputs": [],
   "source": []
  }
 ],
 "metadata": {
  "interpreter": {
   "hash": "2da2d76622b87e20802a82a8ef2769dc96d23249b705c573c25bc8c7bc7083d5"
  },
  "kernelspec": {
   "display_name": "Python 3.8.5 ('vpd_env')",
   "language": "python",
   "name": "python3"
  },
  "language_info": {
   "codemirror_mode": {
    "name": "ipython",
    "version": 3
   },
   "file_extension": ".py",
   "mimetype": "text/x-python",
   "name": "python",
   "nbconvert_exporter": "python",
   "pygments_lexer": "ipython3",
   "version": "3.8.5"
  },
  "orig_nbformat": 4
 },
 "nbformat": 4,
 "nbformat_minor": 2
}
