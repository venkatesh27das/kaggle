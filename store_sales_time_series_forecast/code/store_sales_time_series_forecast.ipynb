{
 "cells": [
  {
   "cell_type": "code",
   "execution_count": 148,
   "metadata": {},
   "outputs": [],
   "source": [
    "import pandas as pd\n",
    "import numpy as np\n",
    "import matplotlib.pyplot as plt\n",
    "import keras\n",
    "import glob\n",
    "import os\n",
    "\n",
    "from sklearn import datasets, linear_model, metrics\n",
    "\n",
    "import warnings\n",
    "warnings.filterwarnings(\"ignore\")\n",
    "\n",
    "from sklearn.metrics import mean_absolute_percentage_error\n",
    "from sklearn.preprocessing import StandardScaler"
   ]
  },
  {
   "cell_type": "markdown",
   "metadata": {},
   "source": [
    "## Data Preparation"
   ]
  },
  {
   "cell_type": "code",
   "execution_count": 114,
   "metadata": {},
   "outputs": [],
   "source": [
    "def read_inputs():\n",
    "    holidays = pd.read_csv(\"../data/holidays_events.csv\")\n",
    "    holidays['date'] = pd.to_datetime(holidays['date'])\n",
    "    holidays = holidays[holidays[\"transferred\"]==False]\n",
    "    holidays = holidays[holidays[\"type\"].isin(['Holiday','Additional','Bridge','Event','Transfer'])]\n",
    "    holidays['holiday_flag'] = 1\n",
    "    \n",
    "    oil = pd.read_csv(\"../data/oil.csv\")\n",
    "    oil[\"date\"] = pd.to_datetime(oil['date'])\n",
    "    oil_new = pd.DataFrame({\"date\":list(pd.date_range(start=oil.date.min(),end=oil.date.max()))})\n",
    "    oil_new = pd.merge(oil_new,oil,how=\"left\",on=[\"date\"])\n",
    "    oil_new['dcoilwtico'] = oil_new['dcoilwtico'].ffill()\n",
    "    oil_new['dcoilwtico'] = oil_new['dcoilwtico'].bfill()\n",
    "\n",
    "    stores = pd.read_csv(\"../data/stores.csv\")\n",
    "    transaction = pd.read_csv(\"../data/transactions.csv\")\n",
    "\n",
    "    sample = pd.read_csv(\"../data/sample_submission.csv\")\n",
    "\n",
    "    train = pd.read_csv(\"../data/train.csv\")\n",
    "    train['date'] = pd.to_datetime(train['date'])\n",
    "\n",
    "    test = pd.read_csv(\"../data/test.csv\")\n",
    "    test['date'] = pd.to_datetime(test['date'])\n",
    "\n",
    "    return holidays, oil_new, stores, transaction, train, test, sample\n"
   ]
  },
  {
   "cell_type": "code",
   "execution_count": 155,
   "metadata": {},
   "outputs": [],
   "source": [
    "def create_train_data(train,test,holidays,oil,stores,transaction):\n",
    "\n",
    "    # Filter out 0 sales\n",
    "    train = train[train['sales']>0]\n",
    "\n",
    "    # Get holiday flag\n",
    "    train = pd.merge(train,holidays[['date','holiday_flag']],how='left',on=['date'])\n",
    "    train['holiday_flag'].fillna(0,inplace=True)\n",
    "    test = pd.merge(test,holidays[['date','holiday_flag']],how='left',on=['date'])\n",
    "    test['holiday_flag'].fillna(0,inplace=True)\n",
    "\n",
    "    # Get oil prices\n",
    "    train = pd.merge(train,oil[['date','dcoilwtico']],how='left',on=['date'])\n",
    "    test = pd.merge(test,oil[['date','dcoilwtico']],how='left',on=['date'])\n",
    "\n",
    "    # Get store cluster\n",
    "    train = pd.merge(train,stores[['store_nbr','cluster']],how='left',on=['store_nbr'])\n",
    "    test = pd.merge(test,stores[['store_nbr','cluster']],how='left',on=['store_nbr'])\n",
    "\n",
    "    # Get transaction\n",
    "\n",
    "    # Get seasonality\n",
    "    \n",
    "    dummy = pd.concat([train[['date']], test[['date']]])\n",
    "    dummy = dummy.drop_duplicates(subset=['date'])\n",
    "    dummy = pd.concat([dummy, pd.get_dummies(dummy['date'].dt.month,prefix='month',drop_first=True)], axis = 1)\n",
    "    train = pd.merge(train, dummy, how='left',on =['date'])\n",
    "    test = pd.merge(test, dummy, how='left',on =['date'])\n",
    "    del dummy\n",
    "\n",
    "    return train, test\n"
   ]
  },
  {
   "cell_type": "markdown",
   "metadata": {},
   "source": [
    "## Exploratory Analysis"
   ]
  },
  {
   "cell_type": "code",
   "execution_count": 60,
   "metadata": {},
   "outputs": [],
   "source": [
    "# Gettting average plots per cluster to check time series\n",
    "df_train = pd.merge(train,stores[[\"store_nbr\",\"cluster\"]],how=\"left\",on=[\"store_nbr\"])\n",
    "df_train_gpy = df_train.groupby([\"date\",\"cluster\"]).agg({\"sales\":['sum','mean',\"count\"]}).reset_index()\n",
    "df_train_gpy.columns = [' '.join(col).strip() for col in df_train_gpy.columns.values]\n",
    "df_train_gpy = df_train_gpy[df_train_gpy['sales sum']>0]\n",
    "df_train_gpy.head(2)\n",
    "df_train_gpy.to_excel(\"../output/sales_plot.xlsx\",index=False)"
   ]
  },
  {
   "cell_type": "markdown",
   "metadata": {},
   "source": [
    "## Model building"
   ]
  },
  {
   "cell_type": "code",
   "execution_count": 156,
   "metadata": {},
   "outputs": [],
   "source": [
    "holidays, oil_new, stores, transaction, train, test, sample = read_inputs()\n",
    "train, test = create_train_data(train, test, holidays, oil, stores, transaction)"
   ]
  },
  {
   "cell_type": "code",
   "execution_count": 162,
   "metadata": {},
   "outputs": [],
   "source": [
    "def scale_variables(X_train,y_train,X_test):\n",
    "    scale_x = StandardScaler()\n",
    "    scale_x.fit(X_train)\n",
    "    X_train = scale_x.transform(X_train)\n",
    "    X_test = scale_x.transform(X_test)\n",
    "\n",
    "    scale_y = StandardScaler()\n",
    "    scale_y.fit(y_train)\n",
    "    y_train = scale_y.transform(y_train)\n",
    "\n",
    "    return X_train, y_train, X_test, scale_x, scale_y\n",
    "\n",
    "def inverse_scale_variables(X_train, y_train, X_test, train_pred, test_pred, scale_x, scale_y):\n",
    "    train_pred = scale_y.inverse_transform(train_pred)\n",
    "    test_pred = scale_y.inverse_transform(test_pred)\n",
    "    y_train = scale_y.inverse_transform(y_train)\n",
    "    X_train = scale_x.inverse_transform(X_train)\n",
    "    X_test = scale_x.inverse_transform(X_test)\n",
    "\n",
    "    return X_train, y_train, X_test, train_pred, test_pred\n",
    "\n",
    "def build_model(X_train, y_train, model_name = \"linear_regression\"):\n",
    "\n",
    "    if model_name == \"linear_regression\":\n",
    "        # create linear regression object\n",
    "        reg = linear_model.LinearRegression()        \n",
    "        # train the model using the training sets\n",
    "        reg.fit(X_train, y_train)\n",
    "        return reg\n",
    "    \n",
    "\n",
    "    "
   ]
  },
  {
   "cell_type": "code",
   "execution_count": 127,
   "metadata": {},
   "outputs": [],
   "source": [
    "features = ['onpromotion', 'holiday_flag','dcoilwtico', 'month_2', 'month_3', 'month_4', 'month_5',\n",
    "       'month_6', 'month_7', 'month_8', 'month_9', 'month_10', 'month_11','month_12']\n",
    "dv = ['sales']"
   ]
  },
  {
   "cell_type": "code",
   "execution_count": 173,
   "metadata": {},
   "outputs": [],
   "source": [
    "for i in test['store_nbr'].tolist()[0:1]:\n",
    "    for j in test['family'].tolist()[0:1]:\n",
    "        df_train = train[(train['store_nbr']==i) & (train['family']==j)][features+['date']+dv].copy()\n",
    "        df_test = test[(test['store_nbr']==i) & (test['family']==j)][features+['date']].copy()\n",
    "        df_train.set_index(['date'],inplace=True)\n",
    "        df_test.set_index(['date'],inplace=True)\n",
    "        X_train = df_train[features]\n",
    "        y_train = df_train[dv]\n",
    "        X_test = df_test[features]\n",
    "\n",
    "        X_train_sc, y_train_sc, X_test_sc, scale_x, scale_y = scale_variables(X_train, y_train, X_test)\n",
    "\n",
    "        model_obj = build_model(X_train_sc, y_train_sc, model_name = \"linear_regression\")\n",
    "        train_pred = model_obj.predict(X_train_sc)\n",
    "        test_pred = model_obj.predict(X_test_sc)\n",
    "\n",
    "        X_train_sc, y_train_sc, X_test_sc, train_pred, test_pred = inverse_scale_variables(X_train_sc, y_train_sc, X_test_sc, train_pred, test_pred, scale_x, scale_y)\n",
    "        train_temp = pd.concat([X_train,y_train],axis=1)\n",
    "        train_temp['train_pred'] = train_pred\n",
    "        test_temp = X_test.copy()\n",
    "        test_temp['test_pred'] = test_pred\n",
    "        \n",
    "\n",
    "        "
   ]
  },
  {
   "cell_type": "code",
   "execution_count": 174,
   "metadata": {},
   "outputs": [
    {
     "name": "stdout",
     "output_type": "stream",
     "text": [
      "Train MAPE :  0.8168067327233302\n"
     ]
    }
   ],
   "source": [
    "\n",
    "print(\"Train MAPE : \",mean_absolute_percentage_error(y_train_sc, train_pred))\n",
    "# print(\"Test MAPE : \",mean_absolute_percentage_error(y_train, train_pred))\n",
    "\n"
   ]
  },
  {
   "cell_type": "code",
   "execution_count": 175,
   "metadata": {},
   "outputs": [
    {
     "data": {
      "text/html": [
       "<div>\n",
       "<style scoped>\n",
       "    .dataframe tbody tr th:only-of-type {\n",
       "        vertical-align: middle;\n",
       "    }\n",
       "\n",
       "    .dataframe tbody tr th {\n",
       "        vertical-align: top;\n",
       "    }\n",
       "\n",
       "    .dataframe thead th {\n",
       "        text-align: right;\n",
       "    }\n",
       "</style>\n",
       "<table border=\"1\" class=\"dataframe\">\n",
       "  <thead>\n",
       "    <tr style=\"text-align: right;\">\n",
       "      <th></th>\n",
       "      <th>onpromotion</th>\n",
       "      <th>holiday_flag</th>\n",
       "      <th>dcoilwtico</th>\n",
       "      <th>month_2</th>\n",
       "      <th>month_3</th>\n",
       "      <th>month_4</th>\n",
       "      <th>month_5</th>\n",
       "      <th>month_6</th>\n",
       "      <th>month_7</th>\n",
       "      <th>month_8</th>\n",
       "      <th>month_9</th>\n",
       "      <th>month_10</th>\n",
       "      <th>month_11</th>\n",
       "      <th>month_12</th>\n",
       "    </tr>\n",
       "    <tr>\n",
       "      <th>date</th>\n",
       "      <th></th>\n",
       "      <th></th>\n",
       "      <th></th>\n",
       "      <th></th>\n",
       "      <th></th>\n",
       "      <th></th>\n",
       "      <th></th>\n",
       "      <th></th>\n",
       "      <th></th>\n",
       "      <th></th>\n",
       "      <th></th>\n",
       "      <th></th>\n",
       "      <th></th>\n",
       "      <th></th>\n",
       "    </tr>\n",
       "  </thead>\n",
       "  <tbody>\n",
       "    <tr>\n",
       "      <th>2013-01-02</th>\n",
       "      <td>0</td>\n",
       "      <td>0.0</td>\n",
       "      <td>93.14</td>\n",
       "      <td>0</td>\n",
       "      <td>0</td>\n",
       "      <td>0</td>\n",
       "      <td>0</td>\n",
       "      <td>0</td>\n",
       "      <td>0</td>\n",
       "      <td>0</td>\n",
       "      <td>0</td>\n",
       "      <td>0</td>\n",
       "      <td>0</td>\n",
       "      <td>0</td>\n",
       "    </tr>\n",
       "  </tbody>\n",
       "</table>\n",
       "</div>"
      ],
      "text/plain": [
       "            onpromotion  holiday_flag  dcoilwtico  month_2  month_3  month_4  \\\n",
       "date                                                                           \n",
       "2013-01-02            0           0.0       93.14        0        0        0   \n",
       "\n",
       "            month_5  month_6  month_7  month_8  month_9  month_10  month_11  \\\n",
       "date                                                                          \n",
       "2013-01-02        0        0        0        0        0         0         0   \n",
       "\n",
       "            month_12  \n",
       "date                  \n",
       "2013-01-02         0  "
      ]
     },
     "execution_count": 175,
     "metadata": {},
     "output_type": "execute_result"
    }
   ],
   "source": [
    "X_train.head(1)"
   ]
  },
  {
   "cell_type": "code",
   "execution_count": 152,
   "metadata": {},
   "outputs": [
    {
     "data": {
      "text/plain": [
       "array([[4.4408921e-16],\n",
       "       [2.0000000e+00],\n",
       "       [3.0000000e+00],\n",
       "       ...,\n",
       "       [1.0000000e+00],\n",
       "       [1.0000000e+00],\n",
       "       [4.0000000e+00]])"
      ]
     },
     "execution_count": 152,
     "metadata": {},
     "output_type": "execute_result"
    }
   ],
   "source": [
    "y_train"
   ]
  },
  {
   "cell_type": "code",
   "execution_count": 154,
   "metadata": {},
   "outputs": [
    {
     "data": {
      "text/html": [
       "<div>\n",
       "<style scoped>\n",
       "    .dataframe tbody tr th:only-of-type {\n",
       "        vertical-align: middle;\n",
       "    }\n",
       "\n",
       "    .dataframe tbody tr th {\n",
       "        vertical-align: top;\n",
       "    }\n",
       "\n",
       "    .dataframe thead th {\n",
       "        text-align: right;\n",
       "    }\n",
       "</style>\n",
       "<table border=\"1\" class=\"dataframe\">\n",
       "  <thead>\n",
       "    <tr style=\"text-align: right;\">\n",
       "      <th></th>\n",
       "      <th>sales</th>\n",
       "    </tr>\n",
       "    <tr>\n",
       "      <th>date</th>\n",
       "      <th></th>\n",
       "    </tr>\n",
       "  </thead>\n",
       "  <tbody>\n",
       "    <tr>\n",
       "      <th>2013-01-01</th>\n",
       "      <td>0.0</td>\n",
       "    </tr>\n",
       "    <tr>\n",
       "      <th>2013-01-02</th>\n",
       "      <td>2.0</td>\n",
       "    </tr>\n",
       "    <tr>\n",
       "      <th>2013-01-03</th>\n",
       "      <td>3.0</td>\n",
       "    </tr>\n",
       "    <tr>\n",
       "      <th>2013-01-04</th>\n",
       "      <td>3.0</td>\n",
       "    </tr>\n",
       "    <tr>\n",
       "      <th>2013-01-05</th>\n",
       "      <td>5.0</td>\n",
       "    </tr>\n",
       "    <tr>\n",
       "      <th>...</th>\n",
       "      <td>...</td>\n",
       "    </tr>\n",
       "    <tr>\n",
       "      <th>2017-08-11</th>\n",
       "      <td>1.0</td>\n",
       "    </tr>\n",
       "    <tr>\n",
       "      <th>2017-08-12</th>\n",
       "      <td>6.0</td>\n",
       "    </tr>\n",
       "    <tr>\n",
       "      <th>2017-08-13</th>\n",
       "      <td>1.0</td>\n",
       "    </tr>\n",
       "    <tr>\n",
       "      <th>2017-08-14</th>\n",
       "      <td>1.0</td>\n",
       "    </tr>\n",
       "    <tr>\n",
       "      <th>2017-08-15</th>\n",
       "      <td>4.0</td>\n",
       "    </tr>\n",
       "  </tbody>\n",
       "</table>\n",
       "<p>1713 rows × 1 columns</p>\n",
       "</div>"
      ],
      "text/plain": [
       "            sales\n",
       "date             \n",
       "2013-01-01    0.0\n",
       "2013-01-02    2.0\n",
       "2013-01-03    3.0\n",
       "2013-01-04    3.0\n",
       "2013-01-05    5.0\n",
       "...           ...\n",
       "2017-08-11    1.0\n",
       "2017-08-12    6.0\n",
       "2017-08-13    1.0\n",
       "2017-08-14    1.0\n",
       "2017-08-15    4.0\n",
       "\n",
       "[1713 rows x 1 columns]"
      ]
     },
     "execution_count": 154,
     "metadata": {},
     "output_type": "execute_result"
    }
   ],
   "source": [
    "y_train"
   ]
  },
  {
   "cell_type": "code",
   "execution_count": null,
   "metadata": {},
   "outputs": [],
   "source": []
  }
 ],
 "metadata": {
  "interpreter": {
   "hash": "2da2d76622b87e20802a82a8ef2769dc96d23249b705c573c25bc8c7bc7083d5"
  },
  "kernelspec": {
   "display_name": "Python 3.8.5 ('vpd_env')",
   "language": "python",
   "name": "python3"
  },
  "language_info": {
   "codemirror_mode": {
    "name": "ipython",
    "version": 3
   },
   "file_extension": ".py",
   "mimetype": "text/x-python",
   "name": "python",
   "nbconvert_exporter": "python",
   "pygments_lexer": "ipython3",
   "version": "3.8.5"
  },
  "orig_nbformat": 4
 },
 "nbformat": 4,
 "nbformat_minor": 2
}
